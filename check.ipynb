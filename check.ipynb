{
 "cells": [
  {
   "cell_type": "code",
   "execution_count": 2,
   "metadata": {},
   "outputs": [],
   "source": [
    "import pandas as pd\n",
    "from sklearn.model_selection import train_test_split"
   ]
  },
  {
   "cell_type": "code",
   "execution_count": 8,
   "metadata": {},
   "outputs": [
    {
     "data": {
      "text/html": [
       "<div>\n",
       "<style scoped>\n",
       "    .dataframe tbody tr th:only-of-type {\n",
       "        vertical-align: middle;\n",
       "    }\n",
       "\n",
       "    .dataframe tbody tr th {\n",
       "        vertical-align: top;\n",
       "    }\n",
       "\n",
       "    .dataframe thead th {\n",
       "        text-align: right;\n",
       "    }\n",
       "</style>\n",
       "<table border=\"1\" class=\"dataframe\">\n",
       "  <thead>\n",
       "    <tr style=\"text-align: right;\">\n",
       "      <th></th>\n",
       "      <th>Temperature</th>\n",
       "      <th>Humidity</th>\n",
       "      <th>PM2.5</th>\n",
       "      <th>PM10</th>\n",
       "      <th>NO2</th>\n",
       "      <th>SO2</th>\n",
       "      <th>CO</th>\n",
       "      <th>Proximity_to_Industrial_Areas</th>\n",
       "      <th>Population_Density</th>\n",
       "      <th>Air Quality</th>\n",
       "    </tr>\n",
       "  </thead>\n",
       "  <tbody>\n",
       "    <tr>\n",
       "      <th>0</th>\n",
       "      <td>29.8</td>\n",
       "      <td>59.1</td>\n",
       "      <td>5.2</td>\n",
       "      <td>17.9</td>\n",
       "      <td>18.9</td>\n",
       "      <td>9.2</td>\n",
       "      <td>1.72</td>\n",
       "      <td>6.3</td>\n",
       "      <td>319</td>\n",
       "      <td>Moderate</td>\n",
       "    </tr>\n",
       "    <tr>\n",
       "      <th>1</th>\n",
       "      <td>28.3</td>\n",
       "      <td>75.6</td>\n",
       "      <td>2.3</td>\n",
       "      <td>12.2</td>\n",
       "      <td>30.8</td>\n",
       "      <td>9.7</td>\n",
       "      <td>1.64</td>\n",
       "      <td>6.0</td>\n",
       "      <td>611</td>\n",
       "      <td>Moderate</td>\n",
       "    </tr>\n",
       "    <tr>\n",
       "      <th>2</th>\n",
       "      <td>23.1</td>\n",
       "      <td>74.7</td>\n",
       "      <td>26.7</td>\n",
       "      <td>33.8</td>\n",
       "      <td>24.4</td>\n",
       "      <td>12.6</td>\n",
       "      <td>1.63</td>\n",
       "      <td>5.2</td>\n",
       "      <td>619</td>\n",
       "      <td>Moderate</td>\n",
       "    </tr>\n",
       "    <tr>\n",
       "      <th>3</th>\n",
       "      <td>27.1</td>\n",
       "      <td>39.1</td>\n",
       "      <td>6.1</td>\n",
       "      <td>6.3</td>\n",
       "      <td>13.5</td>\n",
       "      <td>5.3</td>\n",
       "      <td>1.15</td>\n",
       "      <td>11.1</td>\n",
       "      <td>551</td>\n",
       "      <td>Good</td>\n",
       "    </tr>\n",
       "    <tr>\n",
       "      <th>4</th>\n",
       "      <td>26.5</td>\n",
       "      <td>70.7</td>\n",
       "      <td>6.9</td>\n",
       "      <td>16.0</td>\n",
       "      <td>21.9</td>\n",
       "      <td>5.6</td>\n",
       "      <td>1.01</td>\n",
       "      <td>12.7</td>\n",
       "      <td>303</td>\n",
       "      <td>Good</td>\n",
       "    </tr>\n",
       "  </tbody>\n",
       "</table>\n",
       "</div>"
      ],
      "text/plain": [
       "   Temperature  Humidity  PM2.5  PM10   NO2   SO2    CO  \\\n",
       "0         29.8      59.1    5.2  17.9  18.9   9.2  1.72   \n",
       "1         28.3      75.6    2.3  12.2  30.8   9.7  1.64   \n",
       "2         23.1      74.7   26.7  33.8  24.4  12.6  1.63   \n",
       "3         27.1      39.1    6.1   6.3  13.5   5.3  1.15   \n",
       "4         26.5      70.7    6.9  16.0  21.9   5.6  1.01   \n",
       "\n",
       "   Proximity_to_Industrial_Areas  Population_Density Air Quality  \n",
       "0                            6.3                 319    Moderate  \n",
       "1                            6.0                 611    Moderate  \n",
       "2                            5.2                 619    Moderate  \n",
       "3                           11.1                 551        Good  \n",
       "4                           12.7                 303        Good  "
      ]
     },
     "execution_count": 8,
     "metadata": {},
     "output_type": "execute_result"
    }
   ],
   "source": [
    "data = pd.read_csv('updated_pollution_dataset.csv')\n",
    "data.head()"
   ]
  },
  {
   "cell_type": "code",
   "execution_count": 9,
   "metadata": {},
   "outputs": [
    {
     "data": {
      "text/plain": [
       "Temperature                      0\n",
       "Humidity                         0\n",
       "PM2.5                            0\n",
       "PM10                             0\n",
       "NO2                              0\n",
       "SO2                              0\n",
       "CO                               0\n",
       "Proximity_to_Industrial_Areas    0\n",
       "Population_Density               0\n",
       "Air Quality                      0\n",
       "dtype: int64"
      ]
     },
     "execution_count": 9,
     "metadata": {},
     "output_type": "execute_result"
    }
   ],
   "source": [
    "data.isnull().sum()"
   ]
  },
  {
   "cell_type": "code",
   "execution_count": 10,
   "metadata": {},
   "outputs": [
    {
     "name": "stdout",
     "output_type": "stream",
     "text": [
      "      Temperature  Humidity  PM2.5   PM10   NO2   SO2    CO  \\\n",
      "0            29.8      59.1    5.2   17.9  18.9   9.2  1.72   \n",
      "1            28.3      75.6    2.3   12.2  30.8   9.7  1.64   \n",
      "2            23.1      74.7   26.7   33.8  24.4  12.6  1.63   \n",
      "3            27.1      39.1    6.1    6.3  13.5   5.3  1.15   \n",
      "4            26.5      70.7    6.9   16.0  21.9   5.6  1.01   \n",
      "...           ...       ...    ...    ...   ...   ...   ...   \n",
      "4995         40.6      74.1  116.0  126.7  45.5  25.7  2.11   \n",
      "4996         28.1      96.9    6.9   25.0  25.3  10.8  1.54   \n",
      "4997         25.9      78.2   14.2   22.1  34.8   7.8  1.63   \n",
      "4998         25.3      44.4   21.4   29.0  23.7   5.7  0.89   \n",
      "4999         24.1      77.9   81.7   94.3  23.2  10.5  1.38   \n",
      "\n",
      "      Proximity_to_Industrial_Areas  Population_Density  \n",
      "0                               6.3                 319  \n",
      "1                               6.0                 611  \n",
      "2                               5.2                 619  \n",
      "3                              11.1                 551  \n",
      "4                              12.7                 303  \n",
      "...                             ...                 ...  \n",
      "4995                            2.8                 765  \n",
      "4996                            5.7                 709  \n",
      "4997                            9.6                 379  \n",
      "4998                           11.6                 241  \n",
      "4999                            8.3                 461  \n",
      "\n",
      "[5000 rows x 9 columns]\n",
      "0        Moderate\n",
      "1        Moderate\n",
      "2        Moderate\n",
      "3            Good\n",
      "4            Good\n",
      "          ...    \n",
      "4995    Hazardous\n",
      "4996     Moderate\n",
      "4997     Moderate\n",
      "4998         Good\n",
      "4999     Moderate\n",
      "Name: Air Quality, Length: 5000, dtype: object\n"
     ]
    }
   ],
   "source": [
    "x = data.drop('Air Quality', axis=1)\n",
    "y = data['Air Quality']\n",
    "print(x)\n",
    "print(y)"
   ]
  },
  {
   "cell_type": "code",
   "execution_count": 13,
   "metadata": {},
   "outputs": [
    {
     "name": "stdout",
     "output_type": "stream",
     "text": [
      "(4000, 9)\n",
      "(1000, 9)\n",
      "(4000,)\n",
      "(1000,)\n"
     ]
    }
   ],
   "source": [
    "x_train, x_test, y_train, y_test = train_test_split(x, y, test_size=0.2, random_state=42)\n",
    "print(x_train.shape)\n",
    "print(x_test.shape)\n",
    "print(y_train.shape)\n",
    "print(y_test.shape)"
   ]
  },
  {
   "cell_type": "code",
   "execution_count": null,
   "metadata": {},
   "outputs": [],
   "source": []
  }
 ],
 "metadata": {
  "kernelspec": {
   "display_name": ".venv",
   "language": "python",
   "name": "python3"
  },
  "language_info": {
   "codemirror_mode": {
    "name": "ipython",
    "version": 3
   },
   "file_extension": ".py",
   "mimetype": "text/x-python",
   "name": "python",
   "nbconvert_exporter": "python",
   "pygments_lexer": "ipython3",
   "version": "3.12.4"
  }
 },
 "nbformat": 4,
 "nbformat_minor": 2
}
